{
  "nbformat": 4,
  "nbformat_minor": 0,
  "metadata": {
    "colab": {
      "name": "Else after for and while.ipynb",
      "provenance": [],
      "collapsed_sections": []
    },
    "kernelspec": {
      "name": "python3",
      "display_name": "Python 3"
    },
    "language_info": {
      "name": "python"
    }
  },
  "cells": [
    {
      "cell_type": "markdown",
      "source": [
        "#else after for"
      ],
      "metadata": {
        "id": "-5QDfKIPkxLe"
      }
    },
    {
      "cell_type": "markdown",
      "source": [
        "Another function of else is after giving the program exit when the search cannot found during repeated search\n",
        "\n",
        "The else clause is executed after the loop finish normally. This means that the loop did not find the break statement."
      ],
      "metadata": {
        "id": "kkwmYdfRk6q-"
      }
    },
    {
      "cell_type": "code",
      "source": [
        "for i in range (1,7):\n",
        "    if i % 2 == 0:\n",
        "        print(\"{} adalah genap\". format (i))\n",
        "        break"
      ],
      "metadata": {
        "colab": {
          "base_uri": "https://localhost:8080/"
        },
        "id": "Z3-e75RDY5Vj",
        "outputId": "db3d46c1-c59e-4111-a7de-44ff1a093987"
      },
      "execution_count": null,
      "outputs": [
        {
          "output_type": "stream",
          "name": "stdout",
          "text": [
            "2 adalah genap\n"
          ]
        }
      ]
    },
    {
      "cell_type": "code",
      "source": [
        "for i in range (1,7):\n",
        "    if i % 2 == 0:\n",
        "        print(\"{} adalah genap\". format (i))\n",
        "        break\n",
        "    else:\n",
        "        print(\"{} adalah bukan genap\". format (i))"
      ],
      "metadata": {
        "colab": {
          "base_uri": "https://localhost:8080/"
        },
        "id": "hQuB1I1ClF6p",
        "outputId": "ccd787d2-b3d9-4ded-f475-90f5fce0eb3f"
      },
      "execution_count": null,
      "outputs": [
        {
          "output_type": "stream",
          "name": "stdout",
          "text": [
            "1 adalah bukan genap\n",
            "2 adalah genap\n"
          ]
        }
      ]
    },
    {
      "cell_type": "markdown",
      "source": [
        "So we can conclude that the use of else is to issue other commands outside of the commands that have been given"
      ],
      "metadata": {
        "id": "fM5yT9ifZyMo"
      }
    },
    {
      "cell_type": "code",
      "source": [
        "for i in range (1,7):\n",
        "    if i % 2 == 0:\n",
        "        print(\"{} adalah genap\". format (i))\n",
        "        continue\n",
        "    else:\n",
        "        print(\"{} adalah bukan genap\". format (i))"
      ],
      "metadata": {
        "colab": {
          "base_uri": "https://localhost:8080/"
        },
        "id": "MvqKgm71m4rp",
        "outputId": "20fb83f9-bd8f-4d95-899d-fed5d2f47a62"
      },
      "execution_count": null,
      "outputs": [
        {
          "output_type": "stream",
          "name": "stdout",
          "text": [
            "1 adalah bukan genap\n",
            "2 adalah genap\n",
            "3 adalah bukan genap\n",
            "4 adalah genap\n",
            "5 adalah bukan genap\n",
            "6 adalah genap\n"
          ]
        }
      ]
    },
    {
      "cell_type": "markdown",
      "source": [
        "#Else after while"
      ],
      "metadata": {
        "id": "TC4A28Njp3DM"
      }
    },
    {
      "cell_type": "markdown",
      "source": [
        "The else clause only executes when your while condition becomes false. If you break out of the loop, or if an exception is raised, it won't be executed.\n",
        "\n",
        "The phrasing here implies that your while state goes from a state of true to false and then the else will be executed. However, if the while is never true, the else clause will still be executed. "
      ],
      "metadata": {
        "id": "cynWGnYqcSqs"
      }
    },
    {
      "cell_type": "code",
      "source": [
        "angka = int(input())\n",
        "\n",
        "while (angka < 10): \n",
        "    angka = angka + 2\n",
        "    if angka == 6:\n",
        "      break\n",
        "    print (angka)"
      ],
      "metadata": {
        "colab": {
          "base_uri": "https://localhost:8080/"
        },
        "id": "r0CpEOHsp1_v",
        "outputId": "7c3ea794-feeb-416e-c4f1-5025a04d1d0d"
      },
      "execution_count": null,
      "outputs": [
        {
          "name": "stdout",
          "output_type": "stream",
          "text": [
            "11\n"
          ]
        }
      ]
    },
    {
      "cell_type": "code",
      "source": [
        "angka = int(input())\n",
        "\n",
        "while (angka < 10): \n",
        "    angka = angka + 2\n",
        "    if angka == 6:\n",
        "      break\n",
        "    print (angka)\n",
        "else:\n",
        "    print(\"loop selesai\")"
      ],
      "metadata": {
        "colab": {
          "base_uri": "https://localhost:8080/"
        },
        "id": "GqXWHVXUiLSj",
        "outputId": "88411f69-dd19-40eb-fc85-3bedd91fb47c"
      },
      "execution_count": null,
      "outputs": [
        {
          "output_type": "stream",
          "name": "stdout",
          "text": [
            "11\n",
            "loop selesai\n"
          ]
        }
      ]
    },
    {
      "cell_type": "markdown",
      "source": [
        "The thing that happens when using else is when it still executes the command that was written. As shown in the example above"
      ],
      "metadata": {
        "id": "Hgvuh1CWisT2"
      }
    }
  ]
}