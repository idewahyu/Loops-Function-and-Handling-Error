{
  "nbformat": 4,
  "nbformat_minor": 0,
  "metadata": {
    "colab": {
      "name": "Pass.ipynb",
      "provenance": [],
      "collapsed_sections": []
    },
    "kernelspec": {
      "name": "python3",
      "display_name": "Python 3"
    },
    "language_info": {
      "name": "python"
    }
  },
  "cells": [
    {
      "cell_type": "markdown",
      "source": [
        "In Python programming, the pass statement is null. pass statements in Python are not ignored.\n",
        "\n",
        "Suppose we have a loop or function that has not been implemented, but we want to implement it in the future. It cannot have an empty body. The translator will give an error. So, we use the pass statement to create a body that does nothing"
      ],
      "metadata": {
        "id": "EXsEZK_dxVIX"
      }
    },
    {
      "cell_type": "code",
      "execution_count": null,
      "metadata": {
        "colab": {
          "base_uri": "https://localhost:8080/",
          "height": 321
        },
        "id": "u4eWZOBIvk-1",
        "outputId": "04376260-20c0-431a-c101-3322b849242a"
      },
      "outputs": [
        {
          "name": "stdout",
          "output_type": "stream",
          "text": [
            "peroleh: 2\n",
            "dapat angka 2\n",
            "peroleh: 5\n",
            "dapat angka 5\n",
            "peroleh: 7\n",
            "dapat angka 7\n",
            "peroleh: g\n"
          ]
        },
        {
          "output_type": "error",
          "ename": "ValueError",
          "evalue": "ignored",
          "traceback": [
            "\u001b[0;31m---------------------------------------------------------------------------\u001b[0m",
            "\u001b[0;31mValueError\u001b[0m                                Traceback (most recent call last)",
            "\u001b[0;32m<ipython-input-3-f9617762b50f>\u001b[0m in \u001b[0;36m<module>\u001b[0;34m()\u001b[0m\n\u001b[1;32m      3\u001b[0m \u001b[0;32mwhile\u001b[0m\u001b[0;34m(\u001b[0m\u001b[0mn\u001b[0m \u001b[0;34m!=\u001b[0m \u001b[0;34m\"z\"\u001b[0m\u001b[0;34m)\u001b[0m\u001b[0;34m:\u001b[0m\u001b[0;34m\u001b[0m\u001b[0;34m\u001b[0m\u001b[0m\n\u001b[1;32m      4\u001b[0m     \u001b[0mn\u001b[0m \u001b[0;34m=\u001b[0m \u001b[0;34m(\u001b[0m\u001b[0minput\u001b[0m\u001b[0;34m(\u001b[0m\u001b[0;34m\"peroleh: \"\u001b[0m\u001b[0;34m)\u001b[0m\u001b[0;34m)\u001b[0m\u001b[0;34m\u001b[0m\u001b[0;34m\u001b[0m\u001b[0m\n\u001b[0;32m----> 5\u001b[0;31m     \u001b[0mprint\u001b[0m \u001b[0;34m(\u001b[0m\u001b[0;34m'dapat angka {}'\u001b[0m\u001b[0;34m.\u001b[0m \u001b[0mformat\u001b[0m\u001b[0;34m(\u001b[0m\u001b[0mint\u001b[0m\u001b[0;34m(\u001b[0m\u001b[0mn\u001b[0m\u001b[0;34m)\u001b[0m\u001b[0;34m)\u001b[0m\u001b[0;34m)\u001b[0m\u001b[0;34m\u001b[0m\u001b[0;34m\u001b[0m\u001b[0m\n\u001b[0m",
            "\u001b[0;31mValueError\u001b[0m: invalid literal for int() with base 10: 'g'"
          ]
        }
      ],
      "source": [
        "n = \"\"\n",
        "\n",
        "while(n != \"z\"):\n",
        "    n = (input(\"peroleh: \"))\n",
        "    print ('dapat angka {}'. format(int(n)))"
      ]
    },
    {
      "cell_type": "code",
      "source": [
        "import sys\n",
        "\n",
        "n = \"\"\n",
        "\n",
        "while(n != \"z\"):\n",
        "  try:\n",
        "    n = (input(\"peroleh: \"))\n",
        "    print ('dapat angka {}'. format(int(n)))\n",
        "  except:\n",
        "    if n == \"z\" :\n",
        "        pass\n",
        "    else:\n",
        "        print('dapat error {}'. format (sys.exc_info()[0]))"
      ],
      "metadata": {
        "colab": {
          "base_uri": "https://localhost:8080/"
        },
        "id": "mJhIIfmnyKhk",
        "outputId": "bf010236-297f-4615-ae5f-5859788df006"
      },
      "execution_count": null,
      "outputs": [
        {
          "name": "stdout",
          "output_type": "stream",
          "text": [
            "peroleh: 10\n",
            "dapat angka 10\n",
            "peroleh: 8\n",
            "dapat angka 8\n",
            "peroleh: 5\n",
            "dapat angka 5\n",
            "peroleh: g\n",
            "dapat error <class 'ValueError'>\n",
            "peroleh: k\n",
            "dapat error <class 'ValueError'>\n",
            "peroleh: a\n",
            "dapat error <class 'ValueError'>\n",
            "peroleh: z\n"
          ]
        }
      ]
    },
    {
      "cell_type": "markdown",
      "source": [
        "from the example above we can conclude that when we do not use pass and a command appears that is not allowed to run then an error will appear immediately and cannot continue the command\n",
        "\n",
        "although it could be that the next command is normal. then pass can be used to continue the next command"
      ],
      "metadata": {
        "id": "kNVEHXE2oaLN"
      }
    }
  ]
}