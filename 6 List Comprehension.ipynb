{
  "nbformat": 4,
  "nbformat_minor": 0,
  "metadata": {
    "colab": {
      "name": "List Comprehension & Error, Exception.ipynb",
      "provenance": [],
      "collapsed_sections": []
    },
    "kernelspec": {
      "name": "python3",
      "display_name": "Python 3"
    },
    "language_info": {
      "name": "python"
    }
  },
  "cells": [
    {
      "cell_type": "code",
      "execution_count": 1,
      "metadata": {
        "colab": {
          "base_uri": "https://localhost:8080/"
        },
        "id": "91yQQGeVfSeL",
        "outputId": "9620ca39-f4b7-4a2b-bf04-1b1d8c2d0a0c"
      },
      "outputs": [
        {
          "output_type": "stream",
          "name": "stdout",
          "text": [
            "Nilai Suku Pertama : 1\n",
            "Nilai Suku Terakhir : 8\n",
            "Beda Yang Anda Inginkan : 2\n",
            "1 3 5 7 \n",
            "Jumlah Total :  16\n",
            "\n",
            "\n",
            "\n"
          ]
        }
      ],
      "source": [
        "Suku=input(\"Nilai Suku Pertama : \")\n",
        "Un=input(\"Nilai Suku Terakhir : \")\n",
        "Beda=input(\"Beda Yang Anda Inginkan : \")\n",
        "Sn=0\n",
        "for x in range(int(Suku),int(Un)+1,int(Beda)):\n",
        "  print(x, end=\" \")\n",
        "  Sn += x\n",
        "print(\"\\nJumlah Total : \",Sn) \n",
        "print(\"\\n\\n\")"
      ]
    },
    {
      "cell_type": "code",
      "source": [
        "Suku=input(\"Nilai Suku Pertama : \")\n",
        "suku=[]\n",
        "Un=input(\"Nilai Suku Terakhir : \")\n",
        "Beda=input(\"Beda Yang Anda Inginkan : \")\n",
        "Sn=0\n",
        "for x in range(int(Suku),int(Un)+1,int(Beda)):\n",
        "  suku.append(x)\n",
        "  Sn += x\n",
        "print(suku)\n",
        "print(\"Jumlah Total : \",Sn)"
      ],
      "metadata": {
        "colab": {
          "base_uri": "https://localhost:8080/"
        },
        "id": "5p9-YnT1fX6x",
        "outputId": "69a38a5d-c61e-4dc6-86fc-a5b6127c3141"
      },
      "execution_count": 2,
      "outputs": [
        {
          "output_type": "stream",
          "name": "stdout",
          "text": [
            "Nilai Suku Pertama : 1\n",
            "Nilai Suku Terakhir : 8\n",
            "Beda Yang Anda Inginkan : 2\n",
            "[1, 3, 5, 7]\n",
            "Jumlah Total :  16\n"
          ]
        }
      ]
    },
    {
      "cell_type": "code",
      "source": [
        "Suku=input(\"Nilai Suku Pertama : \")\n",
        "Un=input(\"Nilai Suku Terakhir : \")\n",
        "Beda=input(\"Beda Yang Anda Inginkan : \")\n",
        "suku=[x for x in range(int(Suku),int(Un)+1,int(Beda))]\n",
        "print(suku)"
      ],
      "metadata": {
        "colab": {
          "base_uri": "https://localhost:8080/"
        },
        "id": "U3uJEEIYfgcp",
        "outputId": "76bb97fb-2e08-4a64-956b-60e696798182"
      },
      "execution_count": 3,
      "outputs": [
        {
          "output_type": "stream",
          "name": "stdout",
          "text": [
            "Nilai Suku Pertama : 1\n",
            "Nilai Suku Terakhir : 8\n",
            "Beda Yang Anda Inginkan : 2\n",
            "[1, 3, 5, 7]\n"
          ]
        }
      ]
    },
    {
      "cell_type": "code",
      "source": [
        "FirstNum1=int(input(\"Masukan Nilai Awal List 1 : \"))\n",
        "LastNum1=int(input(\"Masukan Nilai Akhir List 1 : \"))\n",
        "Different1=int(input(\"Masukan Beda List 1 : \"))\n",
        "FirstNum2=int(input(\"\\nMasukan Nilai Awal List 2 : \"))\n",
        "LastNum2=int(input(\"Masukan Nilai Akhir List 2 : \"))\n",
        "Different2=int(input(\"Masukan Nilai Beda List 2 : \"))\n",
        "Even=[]\n",
        "for Elemen1 in range(FirstNum1,LastNum1+1,Different1):\n",
        "  for Elemen2 in range(FirstNum2,LastNum2+1,Different2):\n",
        "    if (Elemen1+Elemen2)%2==0 :\n",
        "      Even.append([Elemen1,Elemen2])\n",
        "print(Even)"
      ],
      "metadata": {
        "colab": {
          "base_uri": "https://localhost:8080/"
        },
        "id": "s6aV5Q2Qfntt",
        "outputId": "e2e9ab6a-91a1-447a-f0fe-a9ef7427c770"
      },
      "execution_count": 4,
      "outputs": [
        {
          "output_type": "stream",
          "name": "stdout",
          "text": [
            "Masukan Nilai Awal List 1 : 1\n",
            "Masukan Nilai Akhir List 1 : 10\n",
            "Masukan Beda List 1 : 1\n",
            "\n",
            "Masukan Nilai Awal List 2 : 1\n",
            "Masukan Nilai Akhir List 2 : 10\n",
            "Masukan Nilai Beda List 2 : 1\n",
            "[[1, 1], [1, 3], [1, 5], [1, 7], [1, 9], [2, 2], [2, 4], [2, 6], [2, 8], [2, 10], [3, 1], [3, 3], [3, 5], [3, 7], [3, 9], [4, 2], [4, 4], [4, 6], [4, 8], [4, 10], [5, 1], [5, 3], [5, 5], [5, 7], [5, 9], [6, 2], [6, 4], [6, 6], [6, 8], [6, 10], [7, 1], [7, 3], [7, 5], [7, 7], [7, 9], [8, 2], [8, 4], [8, 6], [8, 8], [8, 10], [9, 1], [9, 3], [9, 5], [9, 7], [9, 9], [10, 2], [10, 4], [10, 6], [10, 8], [10, 10]]\n"
          ]
        }
      ]
    },
    {
      "cell_type": "code",
      "source": [
        "irstNum1=int(input(\"Masukan Nilai Awal List 1 : \"))\n",
        "LastNum1=int(input(\"Masukan Nilai Akhir List 1 : \"))\n",
        "Different1=int(input(\"Masukan Beda List 1 : \"))\n",
        "FirstNum2=int(input(\"\\n1Masukan Nilai Awal List 2 : \"))\n",
        "LastNum2=int(input(\"Masukan Nilai Akhir List 2 : \"))\n",
        "Different2=int(input(\"Masukan Nilai Beda List 2 : \"))\n",
        "Odd=[[E1,E2] for E1 in range(FirstNum1,LastNum1+1,Different1) for E2 in range(FirstNum2,LastNum2+1,Different2) if (E1+E2)%2==1]\n",
        "print(Odd)"
      ],
      "metadata": {
        "colab": {
          "base_uri": "https://localhost:8080/"
        },
        "id": "erVA_2wxfzYo",
        "outputId": "d82ecf51-48c0-41c8-c7df-eab05eed18dd"
      },
      "execution_count": 5,
      "outputs": [
        {
          "output_type": "stream",
          "name": "stdout",
          "text": [
            "Masukan Nilai Awal List 1 : 1\n",
            "Masukan Nilai Akhir List 1 : 10\n",
            "Masukan Beda List 1 : 1\n",
            "\n",
            "1Masukan Nilai Awal List 2 : 1\n",
            "Masukan Nilai Akhir List 2 : 10\n",
            "Masukan Nilai Beda List 2 : 1\n",
            "[[1, 2], [1, 4], [1, 6], [1, 8], [1, 10], [2, 1], [2, 3], [2, 5], [2, 7], [2, 9], [3, 2], [3, 4], [3, 6], [3, 8], [3, 10], [4, 1], [4, 3], [4, 5], [4, 7], [4, 9], [5, 2], [5, 4], [5, 6], [5, 8], [5, 10], [6, 1], [6, 3], [6, 5], [6, 7], [6, 9], [7, 2], [7, 4], [7, 6], [7, 8], [7, 10], [8, 1], [8, 3], [8, 5], [8, 7], [8, 9], [9, 2], [9, 4], [9, 6], [9, 8], [9, 10], [10, 1], [10, 3], [10, 5], [10, 7], [10, 9]]\n"
          ]
        }
      ]
    },
    {
      "cell_type": "code",
      "source": [
        "print\"Hello World\""
      ],
      "metadata": {
        "colab": {
          "base_uri": "https://localhost:8080/",
          "height": 135
        },
        "id": "lXeeyryUf0Pv",
        "outputId": "a7288ead-3cdf-4997-a269-d20335df37a0"
      },
      "execution_count": 6,
      "outputs": [
        {
          "output_type": "error",
          "ename": "SyntaxError",
          "evalue": "ignored",
          "traceback": [
            "\u001b[0;36m  File \u001b[0;32m\"<ipython-input-6-16adbbb63714>\"\u001b[0;36m, line \u001b[0;32m1\u001b[0m\n\u001b[0;31m    print\"Hello World\"\u001b[0m\n\u001b[0m                     ^\u001b[0m\n\u001b[0;31mSyntaxError\u001b[0m\u001b[0;31m:\u001b[0m invalid syntax\n"
          ]
        }
      ]
    },
    {
      "cell_type": "code",
      "source": [
        "3/0"
      ],
      "metadata": {
        "colab": {
          "base_uri": "https://localhost:8080/",
          "height": 171
        },
        "id": "CL1DhK7OmSHc",
        "outputId": "c1b9d46d-7ffb-4a9f-e91d-f43b608ba472"
      },
      "execution_count": 7,
      "outputs": [
        {
          "output_type": "error",
          "ename": "ZeroDivisionError",
          "evalue": "ignored",
          "traceback": [
            "\u001b[0;31m---------------------------------------------------------------------------\u001b[0m",
            "\u001b[0;31mZeroDivisionError\u001b[0m                         Traceback (most recent call last)",
            "\u001b[0;32m<ipython-input-7-f6cc6d14333b>\u001b[0m in \u001b[0;36m<module>\u001b[0;34m()\u001b[0m\n\u001b[0;32m----> 1\u001b[0;31m \u001b[0;36m3\u001b[0m\u001b[0;34m/\u001b[0m\u001b[0;36m0\u001b[0m\u001b[0;34m\u001b[0m\u001b[0;34m\u001b[0m\u001b[0m\n\u001b[0m",
            "\u001b[0;31mZeroDivisionError\u001b[0m: division by zero"
          ]
        }
      ]
    },
    {
      "cell_type": "code",
      "source": [
        "3+a"
      ],
      "metadata": {
        "colab": {
          "base_uri": "https://localhost:8080/",
          "height": 171
        },
        "id": "GNA2nYUXn1sb",
        "outputId": "8091c999-c81b-426c-c4cc-3844ad533d1d"
      },
      "execution_count": 8,
      "outputs": [
        {
          "output_type": "error",
          "ename": "NameError",
          "evalue": "ignored",
          "traceback": [
            "\u001b[0;31m---------------------------------------------------------------------------\u001b[0m",
            "\u001b[0;31mNameError\u001b[0m                                 Traceback (most recent call last)",
            "\u001b[0;32m<ipython-input-8-13dfb92ddd84>\u001b[0m in \u001b[0;36m<module>\u001b[0;34m()\u001b[0m\n\u001b[0;32m----> 1\u001b[0;31m \u001b[0;36m3\u001b[0m\u001b[0;34m+\u001b[0m\u001b[0ma\u001b[0m\u001b[0;34m\u001b[0m\u001b[0;34m\u001b[0m\u001b[0m\n\u001b[0m",
            "\u001b[0;31mNameError\u001b[0m: name 'a' is not defined"
          ]
        }
      ]
    },
    {
      "cell_type": "code",
      "source": [
        "x=4\n",
        "y=\"Hello World\"\n",
        "x+y"
      ],
      "metadata": {
        "colab": {
          "base_uri": "https://localhost:8080/",
          "height": 208
        },
        "id": "qxcI8bYQn69S",
        "outputId": "13a37ecb-82d0-47a4-9e42-36c6b602ad4b"
      },
      "execution_count": 9,
      "outputs": [
        {
          "output_type": "error",
          "ename": "TypeError",
          "evalue": "ignored",
          "traceback": [
            "\u001b[0;31m---------------------------------------------------------------------------\u001b[0m",
            "\u001b[0;31mTypeError\u001b[0m                                 Traceback (most recent call last)",
            "\u001b[0;32m<ipython-input-9-29fb64928ace>\u001b[0m in \u001b[0;36m<module>\u001b[0;34m()\u001b[0m\n\u001b[1;32m      1\u001b[0m \u001b[0mx\u001b[0m\u001b[0;34m=\u001b[0m\u001b[0;36m4\u001b[0m\u001b[0;34m\u001b[0m\u001b[0;34m\u001b[0m\u001b[0m\n\u001b[1;32m      2\u001b[0m \u001b[0my\u001b[0m\u001b[0;34m=\u001b[0m\u001b[0;34m\"Hello World\"\u001b[0m\u001b[0;34m\u001b[0m\u001b[0;34m\u001b[0m\u001b[0m\n\u001b[0;32m----> 3\u001b[0;31m \u001b[0mx\u001b[0m\u001b[0;34m+\u001b[0m\u001b[0my\u001b[0m\u001b[0;34m\u001b[0m\u001b[0;34m\u001b[0m\u001b[0m\n\u001b[0m",
            "\u001b[0;31mTypeError\u001b[0m: unsupported operand type(s) for +: 'int' and 'str'"
          ]
        }
      ]
    },
    {
      "cell_type": "code",
      "source": [
        ""
      ],
      "metadata": {
        "id": "WLkUIOzRoBrf"
      },
      "execution_count": null,
      "outputs": []
    }
  ]
}